{
 "cells": [
  {
   "cell_type": "markdown",
   "metadata": {},
   "source": [
    "### Train"
   ]
  },
  {
   "cell_type": "code",
   "execution_count": 1,
   "metadata": {},
   "outputs": [
    {
     "name": "stdout",
     "output_type": "stream",
     "text": [
      "Done preparing data...\n"
     ]
    }
   ],
   "source": [
    "import numpy as np\n",
    "import pandas as pd\n",
    "import urllib\n",
    "import datetime\n",
    "import pickle\n",
    "import seaborn as sn\n",
    "import xgboost as xgb\n",
    "from sklearn import metrics\n",
    "from sklearn.ensemble import ExtraTreesClassifier\n",
    "from sklearn.feature_selection import RFE\n",
    "from sklearn import svm\n",
    "from sklearn import preprocessing\n",
    "from sklearn.neighbors import KNeighborsClassifier\n",
    "from sklearn.naive_bayes import GaussianNB\n",
    "from sklearn.preprocessing import LabelEncoder\n",
    "from sklearn.utils import shuffle\n",
    "from sklearn.externals import joblib\n",
    "from sklearn.datasets import load_digits\n",
    "from sklearn.model_selection import KFold, train_test_split, GridSearchCV\n",
    "from sklearn.datasets import load_iris, load_digits, load_boston\n",
    "from IPython.display import display, HTML\n",
    "from jupyterthemes import jtplot\n",
    "\n",
    "jtplot.style()\n",
    "\n",
    "# svm, knc\n",
    "classifier = 'svm'\n",
    "normalize = bool(0)\n",
    "standardize = bool(0)\n",
    "\n",
    "def input(file):\n",
    "    data = pd.read_csv(file)\n",
    "    data['window'] = (pd.to_datetime(data['dep_date'], format=\"%Y%m%d\") - pd.to_datetime(data['booking_date'], format=\"%Y%m%d\")).dt.days \n",
    "    data['dep_day'] = pd.to_datetime(data['dep_date'], format=\"%Y%m%d\").dt.dayofweek\n",
    "    data[\"pax\"] = data[\"pax\"].apply(np.log)\n",
    "    \n",
    "    time_bins = [0, 300, 600, 900, 1200, 1500, 1800, 2100, 2400]\n",
    "    time_bin_labels = [1,2,3,4,5,6,7,8]\n",
    "    \n",
    "    data['dep_time'] = pd.cut(data['dep_time'], bins=time_bins, labels=time_bin_labels).cat.codes\n",
    "    X = pd.get_dummies(data, columns=['origin', 'destination'])\n",
    "    \n",
    "    return X\n",
    "\n",
    "data = input('input/train.csv')\n",
    "\n",
    "del data['id']\n",
    "del data['dep_date']\n",
    "# del data['booking_date']\n",
    "\n",
    "train=data.sample(frac=0.8,random_state=200)\n",
    "test=data.drop(train.index)\n",
    "\n",
    "X = train\n",
    "y = train['fare_choice']\n",
    "del X['fare_choice']\n",
    "\n",
    "print('Done preparing data...')"
   ]
  },
  {
   "cell_type": "markdown",
   "metadata": {},
   "source": [
    "#### Visualize"
   ]
  },
  {
   "cell_type": "code",
   "execution_count": 2,
   "metadata": {},
   "outputs": [
    {
     "data": {
      "image/png": "[encoded data removed]",
      "text/plain": [
       "<Figure size 792x792 with 6 Axes>"
      ]
     },
     "metadata": {},
     "output_type": "display_data"
    }
   ],
   "source": [
    "import matplotlib.pyplot as plt\n",
    "data[data.dtypes[(data.dtypes==\"float64\")|(data.dtypes==\"int64\")|(data.dtypes==\"int8\")]\n",
    "                        .index.values].hist(figsize=[11,11])\n",
    "plt.show()"
   ]
  },
  {
   "cell_type": "markdown",
   "metadata": {},
   "source": [
    "#### Normalize"
   ]
  },
  {
   "cell_type": "code",
   "execution_count": 3,
   "metadata": {},
   "outputs": [],
   "source": [
    "if normalize:\n",
    "    X = preprocessing.normalize(X)\n",
    "if standardize:\n",
    "    X = preprocessing.scale(X)"
   ]
  },
  {
   "cell_type": "markdown",
   "metadata": {},
   "source": [
    "#### XGBoost"
   ]
  },
  {
   "cell_type": "code",
   "execution_count": 4,
   "metadata": {},
   "outputs": [],
   "source": [
    "# rng = np.random.RandomState(31337)\n",
    "\n",
    "# xgb_data = data\n",
    "# xgb_y = data['fare_choice']\n",
    "# del xgb_data['fare_choice']\n",
    "# xgb_X = xgb_data\n",
    "\n",
    "# # print (y.columns.tolist())\n",
    "# kf = KFold(n_splits=2, shuffle=True, random_state=rng)\n",
    "# for train_index, test_index in kf.split(xgb_X):\n",
    "#     xgb_model = xgb.XGBClassifier().fit(xgb_X.values[train_index], xgb_y.values[train_index])\n",
    "#     predictions = xgb_model.predict(xgb_X.values[test_index])\n",
    "#     actuals = xgb_y.values[test_index]\n",
    "#     print(metrics.confusion_matrix(actuals, predictions))\n",
    "#     print(metrics.classification_report(actuals, predictions))"
   ]
  },
  {
   "cell_type": "markdown",
   "metadata": {},
   "source": [
    "#### Feature Selection"
   ]
  },
  {
   "cell_type": "code",
   "execution_count": 5,
   "metadata": {},
   "outputs": [
    {
     "name": "stdout",
     "output_type": "stream",
     "text": [
      "[0.30068337 0.07023902 0.03391317 0.46613229 0.08096076 0.00380459\n",
      " 0.00874898 0.00237335 0.00478789 0.00182674 0.00187308 0.00478148\n",
      " 0.0032536  0.00830989 0.00233379 0.00275564 0.00322237]\n"
     ]
    }
   ],
   "source": [
    "ext_clf = ExtraTreesClassifier()\n",
    "ext_clf.fit(X, y)\n",
    "\n",
    "print(ext_clf.feature_importances_)"
   ]
  },
  {
   "cell_type": "markdown",
   "metadata": {},
   "source": [
    "#### SVM"
   ]
  },
  {
   "cell_type": "code",
   "execution_count": 6,
   "metadata": {},
   "outputs": [
    {
     "name": "stdout",
     "output_type": "stream",
     "text": [
      "Starting SVM training..\n",
      "[LibSVM]"
     ]
    }
   ],
   "source": [
    "if classifier == 'svm':\n",
    "    print('Starting SVM training..')\n",
    "    model = svm.SVC(decision_function_shape='ovr', verbose=3, probability=True)\n",
    "    model.fit(X, y)\n",
    "    # dec = clf.decision_function([[1]])"
   ]
  },
  {
   "cell_type": "markdown",
   "metadata": {},
   "source": [
    "#### KNeighborsClassifier"
   ]
  },
  {
   "cell_type": "code",
   "execution_count": 7,
   "metadata": {},
   "outputs": [],
   "source": [
    "if classifier == 'knc':\n",
    "    print('Starting KNeighborsClassifier training..')\n",
    "    # fit a k-nearest neighbor model to the data\n",
    "    model = KNeighborsClassifier(n_neighbors=5, leaf_size=15)\n",
    "    model.fit(X, y)\n",
    "    print(model)"
   ]
  },
  {
   "cell_type": "markdown",
   "metadata": {},
   "source": [
    "#### Validation"
   ]
  },
  {
   "cell_type": "code",
   "execution_count": 8,
   "metadata": {},
   "outputs": [
    {
     "name": "stdout",
     "output_type": "stream",
     "text": [
      "             precision    recall  f1-score   support\n",
      "\n",
      "    Classic       0.83      0.93      0.88      6228\n",
      "       Deal       0.85      0.89      0.87      4035\n",
      "       Flex       0.82      0.52      0.64      1346\n",
      "      Saver       0.78      0.67      0.72      3157\n",
      "\n",
      "avg / total       0.82      0.83      0.82     14766\n",
      "\n",
      "0.48570072452781415\n"
     ]
    },
    {
     "data": {
      "text/plain": [
       "<matplotlib.axes._subplots.AxesSubplot at 0x1121a1320>"
      ]
     },
     "execution_count": 8,
     "metadata": {},
     "output_type": "execute_result"
    },
    {
     "data": {
      "image/png": "[encoded data removed]",
      "text/plain": [
       "<Figure size 432x288 with 2 Axes>"
      ]
     },
     "metadata": {},
     "output_type": "display_data"
    }
   ],
   "source": [
    "validation_X, expected = test, test['fare_choice']\n",
    "del validation_X['fare_choice']\n",
    "predicted = model.predict(validation_X)\n",
    "predicted_proba = model.predict_proba(validation_X)\n",
    "\n",
    "# summarize the fit of the model\n",
    "print(metrics.classification_report(expected, predicted))\n",
    "# print(metrics.confusion_matrix(expected, predicted))\n",
    "print(metrics.log_loss(expected, predicted_proba))\n",
    "\n",
    "confusion_matrix = pd.DataFrame(metrics.confusion_matrix(expected, predicted), columns=model.classes_)\n",
    "sn.heatmap(confusion_matrix, annot=True, annot_kws={\"size\": 10}, fmt='g', cmap='Blues')"
   ]
  },
  {
   "cell_type": "markdown",
   "metadata": {},
   "source": [
    "#### Dump"
   ]
  },
  {
   "cell_type": "code",
   "execution_count": 9,
   "metadata": {},
   "outputs": [],
   "source": [
    "dump_file = 'models/' + classifier + '.pkl'\n",
    "model_pkl = open(dump_file, 'wb')\n",
    "pickle.dump(model, model_pkl)\n",
    "model_pkl.close()"
   ]
  },
  {
   "cell_type": "markdown",
   "metadata": {},
   "source": [
    "#### Result"
   ]
  },
  {
   "cell_type": "code",
   "execution_count": null,
   "metadata": {},
   "outputs": [],
   "source": []
  }
 ],
 "metadata": {
  "celltoolbar": "Raw Cell Format",
  "kernelspec": {
   "display_name": "Python 3",
   "language": "python",
   "name": "python3"
  },
  "language_info": {
   "codemirror_mode": {
    "name": "ipython",
    "version": 3
   },
   "file_extension": ".py",
   "mimetype": "text/x-python",
   "name": "python",
   "nbconvert_exporter": "python",
   "pygments_lexer": "ipython3",
   "version": "3.6.4"
  }
 },
 "nbformat": 4,
 "nbformat_minor": 2
}
